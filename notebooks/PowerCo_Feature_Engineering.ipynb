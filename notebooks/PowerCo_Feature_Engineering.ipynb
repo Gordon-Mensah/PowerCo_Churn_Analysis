{
 "cells": [
  {
   "cell_type": "markdown",
   "id": "8941ccf9",
   "metadata": {},
   "source": [
    "# Feature Engineering for PowerCo Churn Analysis"
   ]
  },
  {
   "cell_type": "code",
   "execution_count": 1,
   "id": "3c7bbab6",
   "metadata": {},
   "outputs": [],
   "source": [
    "# Starter Notebook Code\n",
    "import pandas as pd\n",
    "import seaborn as sns\n",
    "import matplotlib.pyplot as plt"
   ]
  },
  {
   "cell_type": "code",
   "execution_count": 16,
   "id": "41e52f21",
   "metadata": {},
   "outputs": [],
   "source": [
    "# Importing necessary libraries\n",
    "import pandas as pd\n",
    "import seaborn as sns\n",
    "import matplotlib.pyplot as plt\n",
    "import warnings"
   ]
  },
  {
   "cell_type": "code",
   "execution_count": 17,
   "id": "f7bc5b11",
   "metadata": {},
   "outputs": [],
   "source": [
    "# Suppress warnings for cleaner output\n",
    "warnings.filterwarnings(\"ignore\", category=FutureWarning)"
   ]
  },
  {
   "cell_type": "code",
   "execution_count": 18,
   "id": "c97480d9",
   "metadata": {},
   "outputs": [],
   "source": [
    "# Set seaborn style for plots\n",
    "sns.set(color_codes=True, style=\"whitegrid\")"
   ]
  },
  {
   "cell_type": "code",
   "execution_count": 19,
   "id": "f8e38e35",
   "metadata": {},
   "outputs": [],
   "source": [
    "# Import Data\n",
    "cleaned_data_path = 'clean_data_after_eda.csv'\n",
    "df = pd.read_csv(cleaned_data_path)"
   ]
  },
  {
   "cell_type": "code",
   "execution_count": 20,
   "id": "585d0d48",
   "metadata": {},
   "outputs": [],
   "source": [
    "# Display the first few rows to understand the data\n",
    "def preview_data(data):\n",
    "    print(\"Data Overview:\")\n",
    "    display(data.head())\n",
    "    print(\"\\nData Info:\")\n",
    "    display(data.info())"
   ]
  },
  {
   "cell_type": "code",
   "execution_count": 21,
   "id": "30a8c02c",
   "metadata": {},
   "outputs": [
    {
     "name": "stdout",
     "output_type": "stream",
     "text": [
      "Data Overview:\n"
     ]
    },
    {
     "data": {
      "text/html": [
       "<div>\n",
       "<style scoped>\n",
       "    .dataframe tbody tr th:only-of-type {\n",
       "        vertical-align: middle;\n",
       "    }\n",
       "\n",
       "    .dataframe tbody tr th {\n",
       "        vertical-align: top;\n",
       "    }\n",
       "\n",
       "    .dataframe thead th {\n",
       "        text-align: right;\n",
       "    }\n",
       "</style>\n",
       "<table border=\"1\" class=\"dataframe\">\n",
       "  <thead>\n",
       "    <tr style=\"text-align: right;\">\n",
       "      <th></th>\n",
       "      <th>id</th>\n",
       "      <th>channel_sales</th>\n",
       "      <th>cons_12m</th>\n",
       "      <th>cons_gas_12m</th>\n",
       "      <th>cons_last_month</th>\n",
       "      <th>date_activ</th>\n",
       "      <th>date_end</th>\n",
       "      <th>date_modif_prod</th>\n",
       "      <th>date_renewal</th>\n",
       "      <th>forecast_cons_12m</th>\n",
       "      <th>...</th>\n",
       "      <th>var_6m_price_off_peak_var</th>\n",
       "      <th>var_6m_price_peak_var</th>\n",
       "      <th>var_6m_price_mid_peak_var</th>\n",
       "      <th>var_6m_price_off_peak_fix</th>\n",
       "      <th>var_6m_price_peak_fix</th>\n",
       "      <th>var_6m_price_mid_peak_fix</th>\n",
       "      <th>var_6m_price_off_peak</th>\n",
       "      <th>var_6m_price_peak</th>\n",
       "      <th>var_6m_price_mid_peak</th>\n",
       "      <th>churn</th>\n",
       "    </tr>\n",
       "  </thead>\n",
       "  <tbody>\n",
       "    <tr>\n",
       "      <th>0</th>\n",
       "      <td>24011ae4ebbe3035111d65fa7c15bc57</td>\n",
       "      <td>foosdfpfkusacimwkcsosbicdxkicaua</td>\n",
       "      <td>0</td>\n",
       "      <td>54946</td>\n",
       "      <td>0</td>\n",
       "      <td>2013-06-15</td>\n",
       "      <td>2016-06-15</td>\n",
       "      <td>2015-11-01</td>\n",
       "      <td>2015-06-23</td>\n",
       "      <td>0.00</td>\n",
       "      <td>...</td>\n",
       "      <td>0.000131</td>\n",
       "      <td>4.100838e-05</td>\n",
       "      <td>9.084737e-04</td>\n",
       "      <td>2.086294</td>\n",
       "      <td>99.530517</td>\n",
       "      <td>44.235794</td>\n",
       "      <td>2.086425</td>\n",
       "      <td>9.953056e+01</td>\n",
       "      <td>4.423670e+01</td>\n",
       "      <td>1</td>\n",
       "    </tr>\n",
       "    <tr>\n",
       "      <th>1</th>\n",
       "      <td>d29c2c54acc38ff3c0614d0a653813dd</td>\n",
       "      <td>MISSING</td>\n",
       "      <td>4660</td>\n",
       "      <td>0</td>\n",
       "      <td>0</td>\n",
       "      <td>2009-08-21</td>\n",
       "      <td>2016-08-30</td>\n",
       "      <td>2009-08-21</td>\n",
       "      <td>2015-08-31</td>\n",
       "      <td>189.95</td>\n",
       "      <td>...</td>\n",
       "      <td>0.000003</td>\n",
       "      <td>1.217891e-03</td>\n",
       "      <td>0.000000e+00</td>\n",
       "      <td>0.009482</td>\n",
       "      <td>0.000000</td>\n",
       "      <td>0.000000</td>\n",
       "      <td>0.009485</td>\n",
       "      <td>1.217891e-03</td>\n",
       "      <td>0.000000e+00</td>\n",
       "      <td>0</td>\n",
       "    </tr>\n",
       "    <tr>\n",
       "      <th>2</th>\n",
       "      <td>764c75f661154dac3a6c254cd082ea7d</td>\n",
       "      <td>foosdfpfkusacimwkcsosbicdxkicaua</td>\n",
       "      <td>544</td>\n",
       "      <td>0</td>\n",
       "      <td>0</td>\n",
       "      <td>2010-04-16</td>\n",
       "      <td>2016-04-16</td>\n",
       "      <td>2010-04-16</td>\n",
       "      <td>2015-04-17</td>\n",
       "      <td>47.96</td>\n",
       "      <td>...</td>\n",
       "      <td>0.000004</td>\n",
       "      <td>9.450150e-08</td>\n",
       "      <td>0.000000e+00</td>\n",
       "      <td>0.000000</td>\n",
       "      <td>0.000000</td>\n",
       "      <td>0.000000</td>\n",
       "      <td>0.000004</td>\n",
       "      <td>9.450150e-08</td>\n",
       "      <td>0.000000e+00</td>\n",
       "      <td>0</td>\n",
       "    </tr>\n",
       "    <tr>\n",
       "      <th>3</th>\n",
       "      <td>bba03439a292a1e166f80264c16191cb</td>\n",
       "      <td>lmkebamcaaclubfxadlmueccxoimlema</td>\n",
       "      <td>1584</td>\n",
       "      <td>0</td>\n",
       "      <td>0</td>\n",
       "      <td>2010-03-30</td>\n",
       "      <td>2016-03-30</td>\n",
       "      <td>2010-03-30</td>\n",
       "      <td>2015-03-31</td>\n",
       "      <td>240.04</td>\n",
       "      <td>...</td>\n",
       "      <td>0.000003</td>\n",
       "      <td>0.000000e+00</td>\n",
       "      <td>0.000000e+00</td>\n",
       "      <td>0.000000</td>\n",
       "      <td>0.000000</td>\n",
       "      <td>0.000000</td>\n",
       "      <td>0.000003</td>\n",
       "      <td>0.000000e+00</td>\n",
       "      <td>0.000000e+00</td>\n",
       "      <td>0</td>\n",
       "    </tr>\n",
       "    <tr>\n",
       "      <th>4</th>\n",
       "      <td>149d57cf92fc41cf94415803a877cb4b</td>\n",
       "      <td>MISSING</td>\n",
       "      <td>4425</td>\n",
       "      <td>0</td>\n",
       "      <td>526</td>\n",
       "      <td>2010-01-13</td>\n",
       "      <td>2016-03-07</td>\n",
       "      <td>2010-01-13</td>\n",
       "      <td>2015-03-09</td>\n",
       "      <td>445.75</td>\n",
       "      <td>...</td>\n",
       "      <td>0.000011</td>\n",
       "      <td>2.896760e-06</td>\n",
       "      <td>4.860000e-10</td>\n",
       "      <td>0.000000</td>\n",
       "      <td>0.000000</td>\n",
       "      <td>0.000000</td>\n",
       "      <td>0.000011</td>\n",
       "      <td>2.896760e-06</td>\n",
       "      <td>4.860000e-10</td>\n",
       "      <td>0</td>\n",
       "    </tr>\n",
       "  </tbody>\n",
       "</table>\n",
       "<p>5 rows × 44 columns</p>\n",
       "</div>"
      ],
      "text/plain": [
       "                                 id                     channel_sales  \\\n",
       "0  24011ae4ebbe3035111d65fa7c15bc57  foosdfpfkusacimwkcsosbicdxkicaua   \n",
       "1  d29c2c54acc38ff3c0614d0a653813dd                           MISSING   \n",
       "2  764c75f661154dac3a6c254cd082ea7d  foosdfpfkusacimwkcsosbicdxkicaua   \n",
       "3  bba03439a292a1e166f80264c16191cb  lmkebamcaaclubfxadlmueccxoimlema   \n",
       "4  149d57cf92fc41cf94415803a877cb4b                           MISSING   \n",
       "\n",
       "   cons_12m  cons_gas_12m  cons_last_month  date_activ    date_end  \\\n",
       "0         0         54946                0  2013-06-15  2016-06-15   \n",
       "1      4660             0                0  2009-08-21  2016-08-30   \n",
       "2       544             0                0  2010-04-16  2016-04-16   \n",
       "3      1584             0                0  2010-03-30  2016-03-30   \n",
       "4      4425             0              526  2010-01-13  2016-03-07   \n",
       "\n",
       "  date_modif_prod date_renewal  forecast_cons_12m  ...  \\\n",
       "0      2015-11-01   2015-06-23               0.00  ...   \n",
       "1      2009-08-21   2015-08-31             189.95  ...   \n",
       "2      2010-04-16   2015-04-17              47.96  ...   \n",
       "3      2010-03-30   2015-03-31             240.04  ...   \n",
       "4      2010-01-13   2015-03-09             445.75  ...   \n",
       "\n",
       "   var_6m_price_off_peak_var  var_6m_price_peak_var  \\\n",
       "0                   0.000131           4.100838e-05   \n",
       "1                   0.000003           1.217891e-03   \n",
       "2                   0.000004           9.450150e-08   \n",
       "3                   0.000003           0.000000e+00   \n",
       "4                   0.000011           2.896760e-06   \n",
       "\n",
       "   var_6m_price_mid_peak_var  var_6m_price_off_peak_fix  \\\n",
       "0               9.084737e-04                   2.086294   \n",
       "1               0.000000e+00                   0.009482   \n",
       "2               0.000000e+00                   0.000000   \n",
       "3               0.000000e+00                   0.000000   \n",
       "4               4.860000e-10                   0.000000   \n",
       "\n",
       "   var_6m_price_peak_fix  var_6m_price_mid_peak_fix var_6m_price_off_peak  \\\n",
       "0              99.530517                  44.235794              2.086425   \n",
       "1               0.000000                   0.000000              0.009485   \n",
       "2               0.000000                   0.000000              0.000004   \n",
       "3               0.000000                   0.000000              0.000003   \n",
       "4               0.000000                   0.000000              0.000011   \n",
       "\n",
       "   var_6m_price_peak  var_6m_price_mid_peak  churn  \n",
       "0       9.953056e+01           4.423670e+01      1  \n",
       "1       1.217891e-03           0.000000e+00      0  \n",
       "2       9.450150e-08           0.000000e+00      0  \n",
       "3       0.000000e+00           0.000000e+00      0  \n",
       "4       2.896760e-06           4.860000e-10      0  \n",
       "\n",
       "[5 rows x 44 columns]"
      ]
     },
     "metadata": {},
     "output_type": "display_data"
    },
    {
     "name": "stdout",
     "output_type": "stream",
     "text": [
      "\n",
      "Data Info:\n",
      "<class 'pandas.core.frame.DataFrame'>\n",
      "RangeIndex: 14606 entries, 0 to 14605\n",
      "Data columns (total 44 columns):\n",
      " #   Column                          Non-Null Count  Dtype  \n",
      "---  ------                          --------------  -----  \n",
      " 0   id                              14606 non-null  object \n",
      " 1   channel_sales                   14606 non-null  object \n",
      " 2   cons_12m                        14606 non-null  int64  \n",
      " 3   cons_gas_12m                    14606 non-null  int64  \n",
      " 4   cons_last_month                 14606 non-null  int64  \n",
      " 5   date_activ                      14606 non-null  object \n",
      " 6   date_end                        14606 non-null  object \n",
      " 7   date_modif_prod                 14606 non-null  object \n",
      " 8   date_renewal                    14606 non-null  object \n",
      " 9   forecast_cons_12m               14606 non-null  float64\n",
      " 10  forecast_cons_year              14606 non-null  int64  \n",
      " 11  forecast_discount_energy        14606 non-null  float64\n",
      " 12  forecast_meter_rent_12m         14606 non-null  float64\n",
      " 13  forecast_price_energy_off_peak  14606 non-null  float64\n",
      " 14  forecast_price_energy_peak      14606 non-null  float64\n",
      " 15  forecast_price_pow_off_peak     14606 non-null  float64\n",
      " 16  has_gas                         14606 non-null  object \n",
      " 17  imp_cons                        14606 non-null  float64\n",
      " 18  margin_gross_pow_ele            14606 non-null  float64\n",
      " 19  margin_net_pow_ele              14606 non-null  float64\n",
      " 20  nb_prod_act                     14606 non-null  int64  \n",
      " 21  net_margin                      14606 non-null  float64\n",
      " 22  num_years_antig                 14606 non-null  int64  \n",
      " 23  origin_up                       14606 non-null  object \n",
      " 24  pow_max                         14606 non-null  float64\n",
      " 25  var_year_price_off_peak_var     14606 non-null  float64\n",
      " 26  var_year_price_peak_var         14606 non-null  float64\n",
      " 27  var_year_price_mid_peak_var     14606 non-null  float64\n",
      " 28  var_year_price_off_peak_fix     14606 non-null  float64\n",
      " 29  var_year_price_peak_fix         14606 non-null  float64\n",
      " 30  var_year_price_mid_peak_fix     14606 non-null  float64\n",
      " 31  var_year_price_off_peak         14606 non-null  float64\n",
      " 32  var_year_price_peak             14606 non-null  float64\n",
      " 33  var_year_price_mid_peak         14606 non-null  float64\n",
      " 34  var_6m_price_off_peak_var       14606 non-null  float64\n",
      " 35  var_6m_price_peak_var           14606 non-null  float64\n",
      " 36  var_6m_price_mid_peak_var       14606 non-null  float64\n",
      " 37  var_6m_price_off_peak_fix       14606 non-null  float64\n",
      " 38  var_6m_price_peak_fix           14606 non-null  float64\n",
      " 39  var_6m_price_mid_peak_fix       14606 non-null  float64\n",
      " 40  var_6m_price_off_peak           14606 non-null  float64\n",
      " 41  var_6m_price_peak               14606 non-null  float64\n",
      " 42  var_6m_price_mid_peak           14606 non-null  float64\n",
      " 43  churn                           14606 non-null  int64  \n",
      "dtypes: float64(29), int64(7), object(8)\n",
      "memory usage: 4.9+ MB\n"
     ]
    },
    {
     "data": {
      "text/plain": [
       "None"
      ]
     },
     "metadata": {},
     "output_type": "display_data"
    }
   ],
   "source": [
    "preview_data(df)"
   ]
  },
  {
   "cell_type": "code",
   "execution_count": 22,
   "id": "1ba0304c",
   "metadata": {},
   "outputs": [
    {
     "name": "stdout",
     "output_type": "stream",
     "text": [
      "\n",
      "Missing Values:\n",
      "id                                0\n",
      "channel_sales                     0\n",
      "cons_12m                          0\n",
      "cons_gas_12m                      0\n",
      "cons_last_month                   0\n",
      "date_activ                        0\n",
      "date_end                          0\n",
      "date_modif_prod                   0\n",
      "date_renewal                      0\n",
      "forecast_cons_12m                 0\n",
      "forecast_cons_year                0\n",
      "forecast_discount_energy          0\n",
      "forecast_meter_rent_12m           0\n",
      "forecast_price_energy_off_peak    0\n",
      "forecast_price_energy_peak        0\n",
      "forecast_price_pow_off_peak       0\n",
      "has_gas                           0\n",
      "imp_cons                          0\n",
      "margin_gross_pow_ele              0\n",
      "margin_net_pow_ele                0\n",
      "nb_prod_act                       0\n",
      "net_margin                        0\n",
      "num_years_antig                   0\n",
      "origin_up                         0\n",
      "pow_max                           0\n",
      "var_year_price_off_peak_var       0\n",
      "var_year_price_peak_var           0\n",
      "var_year_price_mid_peak_var       0\n",
      "var_year_price_off_peak_fix       0\n",
      "var_year_price_peak_fix           0\n",
      "var_year_price_mid_peak_fix       0\n",
      "var_year_price_off_peak           0\n",
      "var_year_price_peak               0\n",
      "var_year_price_mid_peak           0\n",
      "var_6m_price_off_peak_var         0\n",
      "var_6m_price_peak_var             0\n",
      "var_6m_price_mid_peak_var         0\n",
      "var_6m_price_off_peak_fix         0\n",
      "var_6m_price_peak_fix             0\n",
      "var_6m_price_mid_peak_fix         0\n",
      "var_6m_price_off_peak             0\n",
      "var_6m_price_peak                 0\n",
      "var_6m_price_mid_peak             0\n",
      "churn                             0\n",
      "dtype: int64\n"
     ]
    }
   ],
   "source": [
    "# Handle Missing Values\n",
    "# Check for missing values\n",
    "missing_values = df.isnull().sum()\n",
    "print(\"\\nMissing Values:\")\n",
    "print(missing_values)"
   ]
  },
  {
   "cell_type": "code",
   "execution_count": 23,
   "id": "22811fe3",
   "metadata": {},
   "outputs": [],
   "source": [
    "# Fill missing values with appropriate strategies (e.g., filling with zeros for simplicity)\n",
    "df.fillna(0, inplace=True)"
   ]
  },
  {
   "cell_type": "code",
   "execution_count": 24,
   "id": "ab1eefd6",
   "metadata": {},
   "outputs": [
    {
     "name": "stdout",
     "output_type": "stream",
     "text": [
      "\n",
      "Columns with a single unique value: []\n"
     ]
    }
   ],
   "source": [
    "# Remove Irrelevant or Redundant Columns\n",
    "# Identify columns with only one unique value\n",
    "irrelevant_columns = [col for col in df.columns if df[col].nunique() == 1]\n",
    "print(\"\\nColumns with a single unique value:\", irrelevant_columns)"
   ]
  },
  {
   "cell_type": "code",
   "execution_count": 25,
   "id": "c9b2539e",
   "metadata": {},
   "outputs": [],
   "source": [
    "# Drop irrelevant columns\n",
    "df.drop(columns=irrelevant_columns, inplace=True)"
   ]
  },
  {
   "cell_type": "code",
   "execution_count": 26,
   "id": "8bcb1786",
   "metadata": {},
   "outputs": [],
   "source": [
    "# Expand Existing Columns\n",
    "# Extract useful features from date columns\n",
    "df['activation_month'] = pd.to_datetime(df['date_activ']).dt.month\n",
    "df['activation_year'] = pd.to_datetime(df['date_activ']).dt.year\n",
    "df['renewal_month'] = pd.to_datetime(df['date_renewal']).dt.month"
   ]
  },
  {
   "cell_type": "code",
   "execution_count": 27,
   "id": "c1a8cf79",
   "metadata": {},
   "outputs": [],
   "source": [
    "# Combine Columns to Create Better Features\n",
    "# Create new combined features\n",
    "df['price_diff_dec_jan'] = df['forecast_price_energy_off_peak'] * (1 + df['var_year_price_off_peak_var'])\n",
    "df['net_margin_per_cons'] = df['net_margin'] / (df['cons_12m'] + 1e-5)  # Avoid division by zero\n",
    "df['off_peak_to_peak_ratio'] = df['forecast_price_energy_off_peak'] / (df['forecast_price_energy_peak'] + 1e-5)"
   ]
  },
  {
   "cell_type": "code",
   "execution_count": 28,
   "id": "65a760dd",
   "metadata": {},
   "outputs": [
    {
     "name": "stdout",
     "output_type": "stream",
     "text": [
      "\n",
      "Newly Created Features:\n",
      "   price_diff_dec_jan  activation_month  net_margin_per_cons  \\\n",
      "0            0.114488                 6         6.789900e+07   \n",
      "1            0.145712                 8         4.053648e-03   \n",
      "2            0.165795                 4         1.213235e-02   \n",
      "3            0.146695                 3         1.607323e-02   \n",
      "4            0.116902                 1         1.084294e-02   \n",
      "\n",
      "   off_peak_to_peak_ratio  \n",
      "0                1.166364  \n",
      "1            14571.100000  \n",
      "2                1.885973  \n",
      "3            14669.400000  \n",
      "4                1.168708  \n"
     ]
    }
   ],
   "source": [
    "# Verify New Features\n",
    "# Display the newly created features\n",
    "print(\"\\nNewly Created Features:\")\n",
    "print(df[['price_diff_dec_jan', 'activation_month', 'net_margin_per_cons', 'off_peak_to_peak_ratio']].head())"
   ]
  },
  {
   "cell_type": "code",
   "execution_count": 29,
   "id": "cffdb780",
   "metadata": {},
   "outputs": [
    {
     "data": {
      "image/png": "[encoded data removed]",
      "text/plain": [
       "<Figure size 576x360 with 1 Axes>"
      ]
     },
     "metadata": {},
     "output_type": "display_data"
    }
   ],
   "source": [
    "# Visualize relationships\n",
    "plt.figure(figsize=(8, 5))\n",
    "sns.boxplot(x='churn', y='net_margin_per_cons', data=df, palette='Set2')\n",
    "plt.title('Net Margin per Consumption vs. Churn', fontsize=14)\n",
    "plt.xlabel('Churn', fontsize=12)\n",
    "plt.ylabel('Net Margin per Consumption', fontsize=12)\n",
    "plt.grid(axis='y', linestyle='--', alpha=0.7)\n",
    "plt.show()"
   ]
  },
  {
   "cell_type": "code",
   "execution_count": 30,
   "id": "d9e9fc01",
   "metadata": {},
   "outputs": [
    {
     "data": {
      "image/png": "[encoded data removed]",
      "text/plain": [
       "<Figure size 576x360 with 1 Axes>"
      ]
     },
     "metadata": {},
     "output_type": "display_data"
    }
   ],
   "source": [
    "plt.figure(figsize=(8, 5))\n",
    "sns.boxplot(x='churn', y='price_diff_dec_jan', data=df, palette='coolwarm')\n",
    "plt.title('Price Difference (Dec-Jan) vs. Churn', fontsize=14)\n",
    "plt.xlabel('Churn', fontsize=12)\n",
    "plt.ylabel('Price Difference (Dec-Jan)', fontsize=12)\n",
    "plt.grid(axis='y', linestyle='--', alpha=0.7)\n",
    "plt.show()\n"
   ]
  },
  {
   "cell_type": "code",
   "execution_count": 31,
   "id": "db21352d",
   "metadata": {},
   "outputs": [
    {
     "name": "stdout",
     "output_type": "stream",
     "text": [
      "\n",
      "Feature-engineered dataset saved as 'cleaned_feature_engineered_data.csv'.\n"
     ]
    }
   ],
   "source": [
    "# Step 7: Save the Updated Dataset\n",
    "# Save the cleaned and feature-engineered dataset\n",
    "df.to_csv('cleaned_feature_engineered_data.csv', index=False)\n",
    "print(\"\\nFeature-engineered dataset saved as 'cleaned_feature_engineered_data.csv'.\")"
   ]
  },
  {
   "cell_type": "code",
   "execution_count": null,
   "id": "ef2b8a5e",
   "metadata": {},
   "outputs": [],
   "source": []
  }
 ],
 "metadata": {
  "kernelspec": {
   "display_name": "Python 3 (ipykernel)",
   "language": "python",
   "name": "python3"
  },
  "language_info": {
   "codemirror_mode": {
    "name": "ipython",
    "version": 3
   },
   "file_extension": ".py",
   "mimetype": "text/x-python",
   "name": "python",
   "nbconvert_exporter": "python",
   "pygments_lexer": "ipython3",
   "version": "3.9.12"
  }
 },
 "nbformat": 4,
 "nbformat_minor": 5
}
