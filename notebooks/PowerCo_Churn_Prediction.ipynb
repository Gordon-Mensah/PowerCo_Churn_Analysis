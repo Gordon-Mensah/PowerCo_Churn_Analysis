{
 "cells": [
  {
   "cell_type": "markdown",
   "id": "bfa72446",
   "metadata": {},
   "source": [
    "# Feature Engineering and Churn Prediction for PowerCo"
   ]
  },
  {
   "cell_type": "code",
   "execution_count": 36,
   "id": "9a081a94",
   "metadata": {},
   "outputs": [],
   "source": [
    "# Importing necessary libraries\n",
    "import pandas as pd\n",
    "import numpy as np\n",
    "import seaborn as sns\n",
    "import matplotlib.pyplot as plt\n",
    "import warnings\n",
    "from sklearn.model_selection import train_test_split\n",
    "from sklearn.ensemble import RandomForestClassifier\n",
    "from sklearn.metrics import classification_report, confusion_matrix, accuracy_score"
   ]
  },
  {
   "cell_type": "code",
   "execution_count": 37,
   "id": "c5bc4632",
   "metadata": {},
   "outputs": [],
   "source": [
    "# Suppress warnings for cleaner output\n",
    "warnings.filterwarnings(\"ignore\", category=FutureWarning)"
   ]
  },
  {
   "cell_type": "code",
   "execution_count": 38,
   "id": "8753bb84",
   "metadata": {},
   "outputs": [],
   "source": [
    "# Set seaborn style for plots and configure matplotlib inline\n",
    "sns.set(color_codes=True, style=\"whitegrid\")\n",
    "%matplotlib inline"
   ]
  },
  {
   "cell_type": "code",
   "execution_count": 39,
   "id": "97848f80",
   "metadata": {},
   "outputs": [],
   "source": [
    "# Import Data\n",
    "cleaned_data_path = 'data_for_predictions.csv'\n",
    "df = pd.read_csv(cleaned_data_path)"
   ]
  },
  {
   "cell_type": "code",
   "execution_count": 40,
   "id": "5e0f8808",
   "metadata": {},
   "outputs": [],
   "source": [
    "# Display the first few rows to understand the data\n",
    "def preview_data(data):\n",
    "    print(\"Data Overview:\")\n",
    "    display(data.head())\n",
    "    print(\"\\nData Info:\")\n",
    "    display(data.info())"
   ]
  },
  {
   "cell_type": "code",
   "execution_count": 8,
   "id": "879db9a7",
   "metadata": {},
   "outputs": [
    {
     "name": "stdout",
     "output_type": "stream",
     "text": [
      "Data Overview:\n"
     ]
    },
    {
     "data": {
      "text/html": [
       "<div>\n",
       "<style scoped>\n",
       "    .dataframe tbody tr th:only-of-type {\n",
       "        vertical-align: middle;\n",
       "    }\n",
       "\n",
       "    .dataframe tbody tr th {\n",
       "        vertical-align: top;\n",
       "    }\n",
       "\n",
       "    .dataframe thead th {\n",
       "        text-align: right;\n",
       "    }\n",
       "</style>\n",
       "<table border=\"1\" class=\"dataframe\">\n",
       "  <thead>\n",
       "    <tr style=\"text-align: right;\">\n",
       "      <th></th>\n",
       "      <th>Unnamed: 0</th>\n",
       "      <th>id</th>\n",
       "      <th>cons_12m</th>\n",
       "      <th>cons_gas_12m</th>\n",
       "      <th>cons_last_month</th>\n",
       "      <th>forecast_cons_12m</th>\n",
       "      <th>forecast_discount_energy</th>\n",
       "      <th>forecast_meter_rent_12m</th>\n",
       "      <th>forecast_price_energy_off_peak</th>\n",
       "      <th>forecast_price_energy_peak</th>\n",
       "      <th>...</th>\n",
       "      <th>months_modif_prod</th>\n",
       "      <th>months_renewal</th>\n",
       "      <th>channel_MISSING</th>\n",
       "      <th>channel_ewpakwlliwisiwduibdlfmalxowmwpci</th>\n",
       "      <th>channel_foosdfpfkusacimwkcsosbicdxkicaua</th>\n",
       "      <th>channel_lmkebamcaaclubfxadlmueccxoimlema</th>\n",
       "      <th>channel_usilxuppasemubllopkaafesmlibmsdf</th>\n",
       "      <th>origin_up_kamkkxfxxuwbdslkwifmmcsiusiuosws</th>\n",
       "      <th>origin_up_ldkssxwpmemidmecebumciepifcamkci</th>\n",
       "      <th>origin_up_lxidpiddsbxsbosboudacockeimpuepw</th>\n",
       "    </tr>\n",
       "  </thead>\n",
       "  <tbody>\n",
       "    <tr>\n",
       "      <th>0</th>\n",
       "      <td>0</td>\n",
       "      <td>24011ae4ebbe3035111d65fa7c15bc57</td>\n",
       "      <td>0.000000</td>\n",
       "      <td>4.739944</td>\n",
       "      <td>0.000000</td>\n",
       "      <td>0.000000</td>\n",
       "      <td>0.0</td>\n",
       "      <td>0.444045</td>\n",
       "      <td>0.114481</td>\n",
       "      <td>0.098142</td>\n",
       "      <td>...</td>\n",
       "      <td>2</td>\n",
       "      <td>6</td>\n",
       "      <td>0</td>\n",
       "      <td>0</td>\n",
       "      <td>1</td>\n",
       "      <td>0</td>\n",
       "      <td>0</td>\n",
       "      <td>0</td>\n",
       "      <td>0</td>\n",
       "      <td>1</td>\n",
       "    </tr>\n",
       "    <tr>\n",
       "      <th>1</th>\n",
       "      <td>1</td>\n",
       "      <td>d29c2c54acc38ff3c0614d0a653813dd</td>\n",
       "      <td>3.668479</td>\n",
       "      <td>0.000000</td>\n",
       "      <td>0.000000</td>\n",
       "      <td>2.280920</td>\n",
       "      <td>0.0</td>\n",
       "      <td>1.237292</td>\n",
       "      <td>0.145711</td>\n",
       "      <td>0.000000</td>\n",
       "      <td>...</td>\n",
       "      <td>76</td>\n",
       "      <td>4</td>\n",
       "      <td>1</td>\n",
       "      <td>0</td>\n",
       "      <td>0</td>\n",
       "      <td>0</td>\n",
       "      <td>0</td>\n",
       "      <td>1</td>\n",
       "      <td>0</td>\n",
       "      <td>0</td>\n",
       "    </tr>\n",
       "    <tr>\n",
       "      <th>2</th>\n",
       "      <td>2</td>\n",
       "      <td>764c75f661154dac3a6c254cd082ea7d</td>\n",
       "      <td>2.736397</td>\n",
       "      <td>0.000000</td>\n",
       "      <td>0.000000</td>\n",
       "      <td>1.689841</td>\n",
       "      <td>0.0</td>\n",
       "      <td>1.599009</td>\n",
       "      <td>0.165794</td>\n",
       "      <td>0.087899</td>\n",
       "      <td>...</td>\n",
       "      <td>68</td>\n",
       "      <td>8</td>\n",
       "      <td>0</td>\n",
       "      <td>0</td>\n",
       "      <td>1</td>\n",
       "      <td>0</td>\n",
       "      <td>0</td>\n",
       "      <td>1</td>\n",
       "      <td>0</td>\n",
       "      <td>0</td>\n",
       "    </tr>\n",
       "    <tr>\n",
       "      <th>3</th>\n",
       "      <td>3</td>\n",
       "      <td>bba03439a292a1e166f80264c16191cb</td>\n",
       "      <td>3.200029</td>\n",
       "      <td>0.000000</td>\n",
       "      <td>0.000000</td>\n",
       "      <td>2.382089</td>\n",
       "      <td>0.0</td>\n",
       "      <td>1.318689</td>\n",
       "      <td>0.146694</td>\n",
       "      <td>0.000000</td>\n",
       "      <td>...</td>\n",
       "      <td>69</td>\n",
       "      <td>9</td>\n",
       "      <td>0</td>\n",
       "      <td>0</td>\n",
       "      <td>0</td>\n",
       "      <td>1</td>\n",
       "      <td>0</td>\n",
       "      <td>1</td>\n",
       "      <td>0</td>\n",
       "      <td>0</td>\n",
       "    </tr>\n",
       "    <tr>\n",
       "      <th>4</th>\n",
       "      <td>4</td>\n",
       "      <td>149d57cf92fc41cf94415803a877cb4b</td>\n",
       "      <td>3.646011</td>\n",
       "      <td>0.000000</td>\n",
       "      <td>2.721811</td>\n",
       "      <td>2.650065</td>\n",
       "      <td>0.0</td>\n",
       "      <td>2.122969</td>\n",
       "      <td>0.116900</td>\n",
       "      <td>0.100015</td>\n",
       "      <td>...</td>\n",
       "      <td>71</td>\n",
       "      <td>9</td>\n",
       "      <td>1</td>\n",
       "      <td>0</td>\n",
       "      <td>0</td>\n",
       "      <td>0</td>\n",
       "      <td>0</td>\n",
       "      <td>1</td>\n",
       "      <td>0</td>\n",
       "      <td>0</td>\n",
       "    </tr>\n",
       "  </tbody>\n",
       "</table>\n",
       "<p>5 rows × 64 columns</p>\n",
       "</div>"
      ],
      "text/plain": [
       "   Unnamed: 0                                id  cons_12m  cons_gas_12m  \\\n",
       "0           0  24011ae4ebbe3035111d65fa7c15bc57  0.000000      4.739944   \n",
       "1           1  d29c2c54acc38ff3c0614d0a653813dd  3.668479      0.000000   \n",
       "2           2  764c75f661154dac3a6c254cd082ea7d  2.736397      0.000000   \n",
       "3           3  bba03439a292a1e166f80264c16191cb  3.200029      0.000000   \n",
       "4           4  149d57cf92fc41cf94415803a877cb4b  3.646011      0.000000   \n",
       "\n",
       "   cons_last_month  forecast_cons_12m  forecast_discount_energy  \\\n",
       "0         0.000000           0.000000                       0.0   \n",
       "1         0.000000           2.280920                       0.0   \n",
       "2         0.000000           1.689841                       0.0   \n",
       "3         0.000000           2.382089                       0.0   \n",
       "4         2.721811           2.650065                       0.0   \n",
       "\n",
       "   forecast_meter_rent_12m  forecast_price_energy_off_peak  \\\n",
       "0                 0.444045                        0.114481   \n",
       "1                 1.237292                        0.145711   \n",
       "2                 1.599009                        0.165794   \n",
       "3                 1.318689                        0.146694   \n",
       "4                 2.122969                        0.116900   \n",
       "\n",
       "   forecast_price_energy_peak  ...  months_modif_prod  months_renewal  \\\n",
       "0                    0.098142  ...                  2               6   \n",
       "1                    0.000000  ...                 76               4   \n",
       "2                    0.087899  ...                 68               8   \n",
       "3                    0.000000  ...                 69               9   \n",
       "4                    0.100015  ...                 71               9   \n",
       "\n",
       "   channel_MISSING  channel_ewpakwlliwisiwduibdlfmalxowmwpci  \\\n",
       "0                0                                         0   \n",
       "1                1                                         0   \n",
       "2                0                                         0   \n",
       "3                0                                         0   \n",
       "4                1                                         0   \n",
       "\n",
       "   channel_foosdfpfkusacimwkcsosbicdxkicaua  \\\n",
       "0                                         1   \n",
       "1                                         0   \n",
       "2                                         1   \n",
       "3                                         0   \n",
       "4                                         0   \n",
       "\n",
       "   channel_lmkebamcaaclubfxadlmueccxoimlema  \\\n",
       "0                                         0   \n",
       "1                                         0   \n",
       "2                                         0   \n",
       "3                                         1   \n",
       "4                                         0   \n",
       "\n",
       "   channel_usilxuppasemubllopkaafesmlibmsdf  \\\n",
       "0                                         0   \n",
       "1                                         0   \n",
       "2                                         0   \n",
       "3                                         0   \n",
       "4                                         0   \n",
       "\n",
       "   origin_up_kamkkxfxxuwbdslkwifmmcsiusiuosws  \\\n",
       "0                                           0   \n",
       "1                                           1   \n",
       "2                                           1   \n",
       "3                                           1   \n",
       "4                                           1   \n",
       "\n",
       "   origin_up_ldkssxwpmemidmecebumciepifcamkci  \\\n",
       "0                                           0   \n",
       "1                                           0   \n",
       "2                                           0   \n",
       "3                                           0   \n",
       "4                                           0   \n",
       "\n",
       "   origin_up_lxidpiddsbxsbosboudacockeimpuepw  \n",
       "0                                           1  \n",
       "1                                           0  \n",
       "2                                           0  \n",
       "3                                           0  \n",
       "4                                           0  \n",
       "\n",
       "[5 rows x 64 columns]"
      ]
     },
     "metadata": {},
     "output_type": "display_data"
    },
    {
     "name": "stdout",
     "output_type": "stream",
     "text": [
      "\n",
      "Data Info:\n",
      "<class 'pandas.core.frame.DataFrame'>\n",
      "RangeIndex: 14606 entries, 0 to 14605\n",
      "Data columns (total 64 columns):\n",
      " #   Column                                      Non-Null Count  Dtype  \n",
      "---  ------                                      --------------  -----  \n",
      " 0   Unnamed: 0                                  14606 non-null  int64  \n",
      " 1   id                                          14606 non-null  object \n",
      " 2   cons_12m                                    14606 non-null  float64\n",
      " 3   cons_gas_12m                                14606 non-null  float64\n",
      " 4   cons_last_month                             14606 non-null  float64\n",
      " 5   forecast_cons_12m                           14606 non-null  float64\n",
      " 6   forecast_discount_energy                    14606 non-null  float64\n",
      " 7   forecast_meter_rent_12m                     14606 non-null  float64\n",
      " 8   forecast_price_energy_off_peak              14606 non-null  float64\n",
      " 9   forecast_price_energy_peak                  14606 non-null  float64\n",
      " 10  forecast_price_pow_off_peak                 14606 non-null  float64\n",
      " 11  has_gas                                     14606 non-null  int64  \n",
      " 12  imp_cons                                    14606 non-null  float64\n",
      " 13  margin_gross_pow_ele                        14606 non-null  float64\n",
      " 14  margin_net_pow_ele                          14606 non-null  float64\n",
      " 15  nb_prod_act                                 14606 non-null  int64  \n",
      " 16  net_margin                                  14606 non-null  float64\n",
      " 17  pow_max                                     14606 non-null  float64\n",
      " 18  var_year_price_off_peak_var                 14606 non-null  float64\n",
      " 19  var_year_price_peak_var                     14606 non-null  float64\n",
      " 20  var_year_price_mid_peak_var                 14606 non-null  float64\n",
      " 21  var_year_price_off_peak_fix                 14606 non-null  float64\n",
      " 22  var_year_price_peak_fix                     14606 non-null  float64\n",
      " 23  var_year_price_mid_peak_fix                 14606 non-null  float64\n",
      " 24  var_year_price_off_peak                     14606 non-null  float64\n",
      " 25  var_year_price_peak                         14606 non-null  float64\n",
      " 26  var_year_price_mid_peak                     14606 non-null  float64\n",
      " 27  var_6m_price_off_peak_var                   14606 non-null  float64\n",
      " 28  var_6m_price_peak_var                       14606 non-null  float64\n",
      " 29  var_6m_price_mid_peak_var                   14606 non-null  float64\n",
      " 30  var_6m_price_off_peak_fix                   14606 non-null  float64\n",
      " 31  var_6m_price_peak_fix                       14606 non-null  float64\n",
      " 32  var_6m_price_mid_peak_fix                   14606 non-null  float64\n",
      " 33  var_6m_price_off_peak                       14606 non-null  float64\n",
      " 34  var_6m_price_peak                           14606 non-null  float64\n",
      " 35  var_6m_price_mid_peak                       14606 non-null  float64\n",
      " 36  churn                                       14606 non-null  int64  \n",
      " 37  offpeak_diff_dec_january_energy             14606 non-null  float64\n",
      " 38  offpeak_diff_dec_january_power              14606 non-null  float64\n",
      " 39  off_peak_peak_var_mean_diff                 14606 non-null  float64\n",
      " 40  peak_mid_peak_var_mean_diff                 14606 non-null  float64\n",
      " 41  off_peak_mid_peak_var_mean_diff             14606 non-null  float64\n",
      " 42  off_peak_peak_fix_mean_diff                 14606 non-null  float64\n",
      " 43  peak_mid_peak_fix_mean_diff                 14606 non-null  float64\n",
      " 44  off_peak_mid_peak_fix_mean_diff             14606 non-null  float64\n",
      " 45  off_peak_peak_var_max_monthly_diff          14606 non-null  float64\n",
      " 46  peak_mid_peak_var_max_monthly_diff          14606 non-null  float64\n",
      " 47  off_peak_mid_peak_var_max_monthly_diff      14606 non-null  float64\n",
      " 48  off_peak_peak_fix_max_monthly_diff          14606 non-null  float64\n",
      " 49  peak_mid_peak_fix_max_monthly_diff          14606 non-null  float64\n",
      " 50  off_peak_mid_peak_fix_max_monthly_diff      14606 non-null  float64\n",
      " 51  tenure                                      14606 non-null  int64  \n",
      " 52  months_activ                                14606 non-null  int64  \n",
      " 53  months_to_end                               14606 non-null  int64  \n",
      " 54  months_modif_prod                           14606 non-null  int64  \n",
      " 55  months_renewal                              14606 non-null  int64  \n",
      " 56  channel_MISSING                             14606 non-null  int64  \n",
      " 57  channel_ewpakwlliwisiwduibdlfmalxowmwpci    14606 non-null  int64  \n",
      " 58  channel_foosdfpfkusacimwkcsosbicdxkicaua    14606 non-null  int64  \n",
      " 59  channel_lmkebamcaaclubfxadlmueccxoimlema    14606 non-null  int64  \n",
      " 60  channel_usilxuppasemubllopkaafesmlibmsdf    14606 non-null  int64  \n",
      " 61  origin_up_kamkkxfxxuwbdslkwifmmcsiusiuosws  14606 non-null  int64  \n",
      " 62  origin_up_ldkssxwpmemidmecebumciepifcamkci  14606 non-null  int64  \n",
      " 63  origin_up_lxidpiddsbxsbosboudacockeimpuepw  14606 non-null  int64  \n",
      "dtypes: float64(46), int64(17), object(1)\n",
      "memory usage: 7.1+ MB\n"
     ]
    },
    {
     "data": {
      "text/plain": [
       "None"
      ]
     },
     "metadata": {},
     "output_type": "display_data"
    }
   ],
   "source": [
    "preview_data(df)"
   ]
  },
  {
   "cell_type": "code",
   "execution_count": 14,
   "id": "826ea962",
   "metadata": {},
   "outputs": [
    {
     "name": "stdout",
     "output_type": "stream",
     "text": [
      "\n",
      "Missing Values:\n",
      "Unnamed: 0                                    0\n",
      "id                                            0\n",
      "cons_12m                                      0\n",
      "cons_gas_12m                                  0\n",
      "cons_last_month                               0\n",
      "                                             ..\n",
      "channel_lmkebamcaaclubfxadlmueccxoimlema      0\n",
      "channel_usilxuppasemubllopkaafesmlibmsdf      0\n",
      "origin_up_kamkkxfxxuwbdslkwifmmcsiusiuosws    0\n",
      "origin_up_ldkssxwpmemidmecebumciepifcamkci    0\n",
      "origin_up_lxidpiddsbxsbosboudacockeimpuepw    0\n",
      "Length: 64, dtype: int64\n"
     ]
    }
   ],
   "source": [
    "#  Handle Missing Values\n",
    "# Check for missing values\n",
    "missing_values = df.isnull().sum()\n",
    "print(\"\\nMissing Values:\")\n",
    "print(missing_values)"
   ]
  },
  {
   "cell_type": "code",
   "execution_count": 41,
   "id": "ad207ca8",
   "metadata": {},
   "outputs": [],
   "source": [
    "# Fill missing values with appropriate strategies (e.g., filling with zeros for simplicity)\n",
    "df.fillna(0, inplace=True)"
   ]
  },
  {
   "cell_type": "code",
   "execution_count": 42,
   "id": "31258bb3",
   "metadata": {},
   "outputs": [
    {
     "name": "stdout",
     "output_type": "stream",
     "text": [
      "\n",
      "Columns with a single unique value: []\n"
     ]
    }
   ],
   "source": [
    "#  Remove Irrelevant or Redundant Columns\n",
    "# Identify columns with only one unique value\n",
    "irrelevant_columns = [col for col in df.columns if df[col].nunique() == 1]\n",
    "print(\"\\nColumns with a single unique value:\", irrelevant_columns)"
   ]
  },
  {
   "cell_type": "code",
   "execution_count": 43,
   "id": "a311bef0",
   "metadata": {},
   "outputs": [],
   "source": [
    "# Drop irrelevant columns\n",
    "df.drop(columns=irrelevant_columns, inplace=True)"
   ]
  },
  {
   "cell_type": "code",
   "execution_count": 44,
   "id": "8d1a9632",
   "metadata": {},
   "outputs": [],
   "source": [
    "# Expand Existing Columns\n",
    "# Extract useful features from date columns\n",
    "if 'date_activ' in df.columns:\n",
    "    df['activation_month'] = pd.to_datetime(df['date_activ'], errors='coerce').dt.month\n",
    "    df['activation_year'] = pd.to_datetime(df['date_activ'], errors='coerce').dt.year\n"
   ]
  },
  {
   "cell_type": "code",
   "execution_count": 45,
   "id": "d00f32ae",
   "metadata": {},
   "outputs": [],
   "source": [
    "if 'date_renewal' in df.columns:\n",
    "    df['renewal_month'] = pd.to_datetime(df['date_renewal'], errors='coerce').dt.month"
   ]
  },
  {
   "cell_type": "code",
   "execution_count": 46,
   "id": "f2a80339",
   "metadata": {},
   "outputs": [],
   "source": [
    "# Combine Columns to Create Better Features\n",
    "# Create new combined features\n",
    "df['price_diff_dec_jan'] = df['forecast_price_energy_off_peak'] * (1 + df['var_year_price_off_peak_var'])\n",
    "df['net_margin_per_cons'] = df['net_margin'] / (df['cons_12m'] + 1e-5)  # Avoid division by zero\n",
    "df['off_peak_to_peak_ratio'] = df['forecast_price_energy_off_peak'] / (df['forecast_price_energy_peak'] + 1e-5)"
   ]
  },
  {
   "cell_type": "code",
   "execution_count": 47,
   "id": "2a788769",
   "metadata": {},
   "outputs": [
    {
     "name": "stdout",
     "output_type": "stream",
     "text": [
      "\n",
      "Newly Created Features:\n",
      "   price_diff_dec_jan  net_margin_per_cons  off_peak_to_peak_ratio\n",
      "0            0.114488         6.789900e+07                1.166364\n",
      "1            0.145712         5.149259e+00            14571.100000\n",
      "2            0.165795         2.411922e+00                1.885973\n",
      "3            0.146695         7.956152e+00            14669.400000\n",
      "4            0.116902         1.315955e+01                1.168708\n"
     ]
    }
   ],
   "source": [
    "# Verify New Features\n",
    "# Display the newly created features\n",
    "existing_features = ['price_diff_dec_jan', 'net_margin_per_cons', 'off_peak_to_peak_ratio']\n",
    "optional_features = ['activation_month']\n",
    "existing_features += [feature for feature in optional_features if feature in df.columns]\n",
    "print(\"\\nNewly Created Features:\")\n",
    "print(df[existing_features].head())"
   ]
  },
  {
   "cell_type": "code",
   "execution_count": 48,
   "id": "3e5d73dc",
   "metadata": {},
   "outputs": [
    {
     "data": {
      "image/png": "[encoded data removed]",
      "text/plain": [
       "<Figure size 576x360 with 1 Axes>"
      ]
     },
     "metadata": {
      "needs_background": "light"
     },
     "output_type": "display_data"
    }
   ],
   "source": [
    "# Visualize relationships\n",
    "plt.figure(figsize=(8, 5))\n",
    "sns.boxplot(x='churn', y='net_margin_per_cons', data=df, palette='Set2')\n",
    "plt.title('Net Margin per Consumption vs. Churn', fontsize=14)\n",
    "plt.xlabel('Churn', fontsize=12)\n",
    "plt.ylabel('Net Margin per Consumption', fontsize=12)\n",
    "plt.grid(axis='y', linestyle='--', alpha=0.7)\n",
    "plt.show()"
   ]
  },
  {
   "cell_type": "code",
   "execution_count": 49,
   "id": "6177762e",
   "metadata": {},
   "outputs": [
    {
     "data": {
      "image/png": "[encoded data removed]",
      "text/plain": [
       "<Figure size 576x360 with 1 Axes>"
      ]
     },
     "metadata": {
      "needs_background": "light"
     },
     "output_type": "display_data"
    }
   ],
   "source": [
    "plt.figure(figsize=(8, 5))\n",
    "sns.boxplot(x='churn', y='price_diff_dec_jan', data=df, palette='coolwarm')\n",
    "plt.title('Price Difference (Dec-Jan) vs. Churn', fontsize=14)\n",
    "plt.xlabel('Churn', fontsize=12)\n",
    "plt.ylabel('Price Difference (Dec-Jan)', fontsize=12)\n",
    "plt.grid(axis='y', linestyle='--', alpha=0.7)\n",
    "plt.show()"
   ]
  },
  {
   "cell_type": "code",
   "execution_count": 52,
   "id": "5af5c4d2",
   "metadata": {},
   "outputs": [],
   "source": [
    "# Prepare Data for Modeling\n",
    "# Select features and target\n",
    "X = df[existing_features]\n",
    "y = df['churn']"
   ]
  },
  {
   "cell_type": "code",
   "execution_count": 53,
   "id": "8839624a",
   "metadata": {},
   "outputs": [],
   "source": [
    "# Split the data into training and testing sets\n",
    "X_train, X_test, y_train, y_test = train_test_split(X, y, test_size=0.3, random_state=42)"
   ]
  },
  {
   "cell_type": "code",
   "execution_count": 54,
   "id": "a11cf84f",
   "metadata": {},
   "outputs": [
    {
     "data": {
      "text/plain": [
       "RandomForestClassifier(random_state=42)"
      ]
     },
     "execution_count": 54,
     "metadata": {},
     "output_type": "execute_result"
    }
   ],
   "source": [
    "# Step 8: Train a Random Forest Classifier\n",
    "rf_model = RandomForestClassifier(random_state=42, n_estimators=100)\n",
    "rf_model.fit(X_train, y_train)"
   ]
  },
  {
   "cell_type": "code",
   "execution_count": 55,
   "id": "4faeb169",
   "metadata": {},
   "outputs": [],
   "source": [
    "# Evaluate the Model\n",
    "# Make predictions\n",
    "y_pred = rf_model.predict(X_test)"
   ]
  },
  {
   "cell_type": "code",
   "execution_count": 56,
   "id": "e615d0d0",
   "metadata": {},
   "outputs": [
    {
     "name": "stdout",
     "output_type": "stream",
     "text": [
      "\n",
      "Classification Report:\n",
      "              precision    recall  f1-score   support\n",
      "\n",
      "           0       0.90      0.98      0.94      3942\n",
      "           1       0.18      0.04      0.06       440\n",
      "\n",
      "    accuracy                           0.89      4382\n",
      "   macro avg       0.54      0.51      0.50      4382\n",
      "weighted avg       0.83      0.89      0.85      4382\n",
      "\n"
     ]
    }
   ],
   "source": [
    "# Print evaluation metrics\n",
    "print(\"\\nClassification Report:\")\n",
    "print(classification_report(y_test, y_pred))"
   ]
  },
  {
   "cell_type": "code",
   "execution_count": 57,
   "id": "af83ff5d",
   "metadata": {},
   "outputs": [
    {
     "name": "stdout",
     "output_type": "stream",
     "text": [
      "\n",
      "Confusion Matrix:\n",
      "[[3863   79]\n",
      " [ 423   17]]\n"
     ]
    }
   ],
   "source": [
    "print(\"\\nConfusion Matrix:\")\n",
    "print(confusion_matrix(y_test, y_pred))"
   ]
  },
  {
   "cell_type": "code",
   "execution_count": 58,
   "id": "d55b7bb8",
   "metadata": {},
   "outputs": [
    {
     "name": "stdout",
     "output_type": "stream",
     "text": [
      "\n",
      "Accuracy Score: 0.8854404381560931\n"
     ]
    }
   ],
   "source": [
    "print(\"\\nAccuracy Score:\", accuracy_score(y_test, y_pred))"
   ]
  },
  {
   "cell_type": "markdown",
   "id": "048fdf86",
   "metadata": {},
   "source": [
    "# Step 10: Analysis and Discussion\n",
    "# Why did we choose these evaluation metrics?\n",
    "# - We chose accuracy to determine the percentage of correct predictions out of all predictions.\n",
    "# - The classification report includes precision, recall, and F1-score, which provide deeper insights into model performance:\n",
    "#   - Precision helps to understand the ratio of true positives to all predicted positives (important for minimizing false positives).\n",
    "#   - Recall gives insight into how well the model is capturing actual positives (important for minimizing false negatives).\n",
    "#   - F1-score balances precision and recall, providing a single metric for performance."
   ]
  },
  {
   "cell_type": "markdown",
   "id": "992040bc",
   "metadata": {},
   "source": [
    "# Is the model performance satisfactory?\n",
    "# - To determine if the model performance is satisfactory, we need to look beyond accuracy. A high accuracy might be misleading if there is class imbalance.\n",
    "# - Precision and recall provide deeper insight into how well the model is capturing each class.\n",
    "# - Ideally, satisfactory performance means balanced precision, recall, and a good F1-score, which indicate that the model is not biased towards one class."
   ]
  },
  {
   "cell_type": "code",
   "execution_count": 60,
   "id": "b47295e6",
   "metadata": {},
   "outputs": [
    {
     "name": "stdout",
     "output_type": "stream",
     "text": [
      "\n",
      "Feature-engineered dataset saved as 'cleaned_feature_engineered_data.csv'.\n"
     ]
    }
   ],
   "source": [
    "# Save the Updated Dataset\n",
    "# Save the cleaned and feature-engineered dataset\n",
    "df.to_csv('cleaned_feature_engineered_data.csv', index=False)\n",
    "print(\"\\nFeature-engineered dataset saved as 'cleaned_feature_engineered_data.csv'.\")"
   ]
  },
  {
   "cell_type": "markdown",
   "id": "44ca47ac",
   "metadata": {},
   "source": [
    "#### Comments and Explanations\n",
    "#### - We used scikit-learn's Random Forest Classifier for its robustness and ability to handle large datasets with many features.\n",
    "#### - Each step has been documented with explanations for clarity.\n",
    "#### - This notebook can be shared with the AD and Estelle, presenting a complete pipeline from feature engineering to model evaluation."
   ]
  },
  {
   "cell_type": "code",
   "execution_count": null,
   "id": "e884bf68",
   "metadata": {},
   "outputs": [],
   "source": []
  }
 ],
 "metadata": {
  "kernelspec": {
   "display_name": "Python 3 (ipykernel)",
   "language": "python",
   "name": "python3"
  },
  "language_info": {
   "codemirror_mode": {
    "name": "ipython",
    "version": 3
   },
   "file_extension": ".py",
   "mimetype": "text/x-python",
   "name": "python",
   "nbconvert_exporter": "python",
   "pygments_lexer": "ipython3",
   "version": "3.9.12"
  }
 },
 "nbformat": 4,
 "nbformat_minor": 5
}
